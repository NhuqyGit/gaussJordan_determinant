{
 "cells": [
  {
   "cell_type": "markdown",
   "metadata": {},
   "source": [
    "# ĐỒ ÁN 2 #"
   ]
  },
  {
   "cell_type": "markdown",
   "metadata": {},
   "source": [
    "> HÀM NHẬP MA TRẬN"
   ]
  },
  {
   "cell_type": "code",
   "execution_count": 4,
   "metadata": {},
   "outputs": [],
   "source": [
    "def inputMatrix(n):\n",
    "    arr = []\n",
    "    for i in range(n):\n",
    "        ar = []\n",
    "        for j in range(n):\n",
    "            ar.append(int(input(f\"arr[{i}][{j}]: \")))\n",
    "        arr.append(ar)\n",
    "    return arr"
   ]
  },
  {
   "cell_type": "markdown",
   "metadata": {},
   "source": [
    "> HÀM XUẤT MA TRẬN"
   ]
  },
  {
   "cell_type": "code",
   "execution_count": 5,
   "metadata": {},
   "outputs": [],
   "source": [
    "def outputMatrix(arr, n, m):\n",
    "  for i in range(n):\n",
    "    print(\"[\", end='')\n",
    "    for j in range(m):\n",
    "      if int(arr[i][j]) == arr[i][j]:\n",
    "          print(str(int(arr[i][j])).rjust(5), end=' ')      \n",
    "      else:\n",
    "          print(str(round(arr[i][j], 2)).rjust(5), end=' ')\n",
    "    print(\"]\")\n",
    "  print(\"\")"
   ]
  },
  {
   "cell_type": "markdown",
   "metadata": {},
   "source": [
    "> HÀM XUẤT (A|I)"
   ]
  },
  {
   "cell_type": "code",
   "execution_count": 12,
   "metadata": {},
   "outputs": [],
   "source": [
    "def output_AI(arr, n, m):\n",
    "    for i in range(n):\n",
    "      print('[', end=' ')                                  \n",
    "      for j in range(m):\n",
    "        if j == 0:\n",
    "          print(str(int(arr[i][j])), end=' ')\n",
    "          continue\n",
    "          \n",
    "        if j == m / 2:                                 \n",
    "          print('|', end=' ')\n",
    "          \n",
    "        if int(arr[i][j]) == arr[i][j]:\n",
    "          print(str(int(arr[i][j])).rjust(5), end=' ')      \n",
    "        else:\n",
    "          print(str(round(arr[i][j], 2)).rjust(5), end=' ')\n",
    "      print(\"]\")\n",
    "    print(\"\")"
   ]
  },
  {
   "cell_type": "markdown",
   "metadata": {},
   "source": [
    "> CÁC HÀM BỔ TRỢ CHO HÀM GAUSS_JODAN"
   ]
  },
  {
   "cell_type": "markdown",
   "metadata": {},
   "source": [
    "- HÀM KIỂM TRA 1 CỘT CÓ PHẢI LÀ VECTOR 0 HAY KHÔNG"
   ]
  },
  {
   "cell_type": "code",
   "execution_count": 6,
   "metadata": {},
   "outputs": [],
   "source": [
    "def checkZeroCol(a):\n",
    "  for i in a:\n",
    "      if i != 0:\n",
    "          return False\n",
    "  return True"
   ]
  },
  {
   "cell_type": "markdown",
   "metadata": {},
   "source": [
    "- HÀM ĐỔI CHỔ HAI HÀNG"
   ]
  },
  {
   "cell_type": "code",
   "execution_count": 7,
   "metadata": {},
   "outputs": [],
   "source": [
    "def swapRow(arr, i, j):\n",
    "  arr[i], arr[j] = arr[j], arr[i]"
   ]
  },
  {
   "cell_type": "markdown",
   "metadata": {},
   "source": [
    "- HÀM RÚT GỌN HÀNG, CHIA TỪNG PHẦN TỬ CHO PHẦN TỬ ĐẦU TIÊN CỦA HÀNG"
   ]
  },
  {
   "cell_type": "code",
   "execution_count": 8,
   "metadata": {},
   "outputs": [],
   "source": [
    "def compactRow(arr, st, en, temp, i):\n",
    "  for j in range(st, en, -1):\n",
    "    if arr[temp][i] == 0:\n",
    "      count = temp\n",
    "      while arr[count][i] == 0:\n",
    "        count += 1\n",
    "      swapRow(arr, temp, count)\n",
    "    arr[temp][j]/=arr[temp][i]"
   ]
  },
  {
   "cell_type": "markdown",
   "metadata": {},
   "source": [
    "> CÁC HÀM BỔ TRỢ CHO HÀM DETERMINANT"
   ]
  },
  {
   "cell_type": "markdown",
   "metadata": {},
   "source": [
    "- HÀM ĐỂ TẠO MỘT BẢN SAO CỦA MA TRẬN"
   ]
  },
  {
   "cell_type": "code",
   "execution_count": 10,
   "metadata": {},
   "outputs": [],
   "source": [
    "def copyMatrix(arr):\n",
    "  ar = []\n",
    "  for i in arr:\n",
    "    ar.append(i)\n",
    "  return ar"
   ]
  },
  {
   "cell_type": "markdown",
   "metadata": {},
   "source": [
    "- HÀM ĐỂ TẠO MỘT MA TRẬN ĐƠN VỊ"
   ]
  },
  {
   "cell_type": "code",
   "execution_count": 11,
   "metadata": {},
   "outputs": [],
   "source": [
    "def Submatrix(arr, row, col):\n",
    "  subArr = copyMatrix(arr)\n",
    "  subArr = subArr[:row] + subArr[row+1:]\n",
    "  lenRowSub = len(subArr)  \n",
    "\n",
    "  for i in range(lenRowSub):\n",
    "    subArr[i] = subArr[i][:col] + subArr[i][col+1:]\n",
    "  return subArr"
   ]
  },
  {
   "cell_type": "markdown",
   "metadata": {},
   "source": [
    "> HÀM GAUSS_JODAN"
   ]
  },
  {
   "cell_type": "code",
   "execution_count": 13,
   "metadata": {},
   "outputs": [],
   "source": [
    "def gauss_jodan(arr, n, m):\n",
    "  temp=0\n",
    "  for i in range(m):\n",
    "    if checkZeroCol([arr[x][i] for x in range(i, n)]):\n",
    "        continue\n",
    "\n",
    "    compactRow(arr, m - 1, i - 1, temp, i)\n",
    "\n",
    "    for j in range(0, n):\n",
    "      if j == temp:\n",
    "        continue \n",
    "      for k in range(m - 1, i-1, -1):\n",
    "        if arr[j][i] == 0:\n",
    "          break\n",
    "        arr[j][k] -= arr[j][i] * arr[temp][k]\n",
    "    temp += 1\n",
    "    output_AI(arr, n, m)"
   ]
  },
  {
   "cell_type": "markdown",
   "metadata": {},
   "source": [
    "> HÀM TÍNH ĐỊNH THỨC (DETERMINANT)"
   ]
  },
  {
   "cell_type": "code",
   "execution_count": 14,
   "metadata": {},
   "outputs": [],
   "source": [
    "def determinant(arr):\n",
    "  if len(arr) == 1 and len(arr[0]) == 1:\n",
    "   return arr[0][0]\n",
    "\n",
    "  total = 0\n",
    "\n",
    "  for i in range(len(arr[0])):\n",
    "   subArr = Submatrix(arr, 0, i)\n",
    "   sign = (-1) ** (i % 2)\n",
    "  \n",
    "   subDet = determinant(subArr)\n",
    "  \n",
    "   total += sign * arr[0][i] * subDet\n",
    "  return total"
   ]
  },
  {
   "cell_type": "markdown",
   "metadata": {},
   "source": [
    "> HÀM KHỞI TẠO MA TRẬN I (NxN)"
   ]
  },
  {
   "cell_type": "code",
   "execution_count": 15,
   "metadata": {},
   "outputs": [],
   "source": [
    "def initializate_I(n):\n",
    "  ar = []\n",
    "  for i in range(n):\n",
    "    a = []\n",
    "    for j in range(n):\n",
    "      if i == j:\n",
    "        a.append(1)\n",
    "      else:\n",
    "         a.append(0)\n",
    "    ar.append(a)\n",
    "  return ar"
   ]
  },
  {
   "cell_type": "markdown",
   "metadata": {},
   "source": [
    "> HÀM KẾT HỢP MA TRẬN A VÀ I --> (A|I)"
   ]
  },
  {
   "cell_type": "code",
   "execution_count": 16,
   "metadata": {},
   "outputs": [],
   "source": [
    "def initializate_AI(A, I, n):\n",
    "  ar = []\n",
    "  for i in range(n):\n",
    "    ar.append(A[i])\n",
    "    for j in range(n):\n",
    "      ar[i].append(I[i][j])\n",
    "  return ar"
   ]
  },
  {
   "cell_type": "markdown",
   "metadata": {},
   "source": [
    "> HÀM TÌM MA TRẬN NGHỊCH ĐẢO"
   ]
  },
  {
   "cell_type": "code",
   "execution_count": 17,
   "metadata": {},
   "outputs": [],
   "source": [
    "def inverse(arr, n):\n",
    "  if determinant(arr) == 0:\n",
    "    print(\"Ma tran khong kha nghich\")\n",
    "    return 0\n",
    "  I = initializate_I(n)\n",
    "  A_I = initializate_AI(arr, I, n)\n",
    "  gauss_jodan(A_I, n, n + n)\n",
    "  a = []\n",
    "  for i in range(n):\n",
    "    a.append(A_I[i][n:n+n])\n",
    "  return a"
   ]
  },
  {
   "cell_type": "markdown",
   "metadata": {},
   "source": [
    "> NHẬP ĐỘ DÀI MA TRẬN VUÔNG, NHẬP MA TRẬN VÀ TÌM MA TRẬN NGỊCH ĐẢO"
   ]
  },
  {
   "cell_type": "code",
   "execution_count": 34,
   "metadata": {},
   "outputs": [
    {
     "name": "stdout",
     "output_type": "stream",
     "text": [
      "Ma tran: \n",
      "[    2    -4    -1     2 ]\n",
      "[    1    -3     1     1 ]\n",
      "[    3    -5    -3     1 ]\n",
      "[    1     1     1     1 ]\n",
      "\n"
     ]
    }
   ],
   "source": [
    "n = int(input(\"Input n: \"))\n",
    "arr = inputMatrix(n)\n",
    "print(\"Ma tran: \")\n",
    "outputMatrix(arr, n, n)"
   ]
  },
  {
   "cell_type": "markdown",
   "metadata": {},
   "source": [
    "> TÌM MA TRẬN NGHỊCH ĐẢO CỦA MA TRẬN ARR"
   ]
  },
  {
   "cell_type": "code",
   "execution_count": 35,
   "metadata": {},
   "outputs": [
    {
     "name": "stdout",
     "output_type": "stream",
     "text": [
      "Tim ma tran nghich dao\n",
      "[ 1    -2  -0.5     1 |   0.5     0     0     0 ]\n",
      "[ 0    -1   1.5     0 |  -0.5     1     0     0 ]\n",
      "[ 0     1  -1.5    -2 |  -1.5     0     1     0 ]\n",
      "[ 0     3   1.5     0 |  -0.5     0     0     1 ]\n",
      "\n",
      "[ 1     0  -3.5     1 |   1.5    -2     0     0 ]\n",
      "[ 0     1  -1.5     0 |   0.5    -1     0     0 ]\n",
      "[ 0     0     0    -2 |    -2     1     1     0 ]\n",
      "[ 0     0     6     0 |    -2     3     0     1 ]\n",
      "\n",
      "[ 1     0     0     1 |  0.33 -0.25     0  0.58 ]\n",
      "[ 0     1     0     0 |     0 -0.25     0  0.25 ]\n",
      "[ 0     0     1     0 | -0.33   0.5     0  0.17 ]\n",
      "[ 0     0     0    -2 |    -2     1     1     0 ]\n",
      "\n",
      "[ 1     0     0     0 | -0.67  0.25   0.5  0.58 ]\n",
      "[ 0     1     0     0 |     0 -0.25     0  0.25 ]\n",
      "[ 0     0     1     0 | -0.33   0.5     0  0.17 ]\n",
      "[ 0     0     0     1 |     1  -0.5  -0.5     0 ]\n",
      "\n",
      "Ma tran kha nghich la: \n",
      "[-0.67  0.25   0.5  0.58 ]\n",
      "[    0 -0.25     0  0.25 ]\n",
      "[-0.33   0.5     0  0.17 ]\n",
      "[    1  -0.5  -0.5     0 ]\n",
      "\n"
     ]
    }
   ],
   "source": [
    "print(\"Tim ma tran nghich dao\")\n",
    "_A = inverse(arr, n)\n",
    "if _A != 0:\n",
    "  print(\"Ma tran kha nghich la: \")\n",
    "  outputMatrix(_A, n, n)"
   ]
  },
  {
   "cell_type": "markdown",
   "metadata": {},
   "source": [
    "> VÍ DỤ TRƯỜNG HỢP KHÔNG KHẢ NGHỊCH"
   ]
  },
  {
   "cell_type": "code",
   "execution_count": 36,
   "metadata": {},
   "outputs": [
    {
     "name": "stdout",
     "output_type": "stream",
     "text": [
      "Ma tran khong kha nghich\n"
     ]
    }
   ],
   "source": [
    "arr5 = [[-2, 0, -2],\n",
    "        [0, 2, 0],\n",
    "        [2, 0, 2]]\n",
    "\n",
    "n = 3\n",
    "a = inverse(arr5, n)\n",
    "if a != 0:\n",
    "  outputMatrix(a, n, n)"
   ]
  }
 ],
 "metadata": {
  "interpreter": {
   "hash": "27f6fea6f47ae512550f0b8facdbd035a93e1dd89633f7bf2dd00a2502c71d0d"
  },
  "kernelspec": {
   "display_name": "Python 3.10.4 64-bit",
   "language": "python",
   "name": "python3"
  },
  "language_info": {
   "codemirror_mode": {
    "name": "ipython",
    "version": 3
   },
   "file_extension": ".py",
   "mimetype": "text/x-python",
   "name": "python",
   "nbconvert_exporter": "python",
   "pygments_lexer": "ipython3",
   "version": "3.10.4"
  },
  "orig_nbformat": 4
 },
 "nbformat": 4,
 "nbformat_minor": 2
}
